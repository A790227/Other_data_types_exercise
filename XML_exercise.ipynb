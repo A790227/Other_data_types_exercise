{
 "cells": [
  {
   "cell_type": "markdown",
   "metadata": {},
   "source": [
    "# XML exercise"
   ]
  },
  {
   "cell_type": "markdown",
   "metadata": {},
   "source": [
    "Using data from [**mondial database**](https://drive.google.com/file/d/14lFT4nWHgwN36ij4XZh6OUuup-K9qLgR/view?usp=sharing) find the answers to following questions:\n",
    "\n",
    "1. 10 countries with the lowest infant mortality rates\n",
    "2. 10 cities with the largest population\n",
    "3. name and country of a) longest river, b) largest lake and c) airport at highest elevation"
   ]
  },
  {
   "cell_type": "code",
   "execution_count": 1,
   "metadata": {},
   "outputs": [],
   "source": [
    "import xml.etree.ElementTree as ET"
   ]
  },
  {
   "cell_type": "code",
   "execution_count": 3,
   "metadata": {},
   "outputs": [],
   "source": [
    "tree = ET.parse('mondial.xml')"
   ]
  },
  {
   "cell_type": "code",
   "execution_count": 5,
   "metadata": {},
   "outputs": [
    {
     "data": {
      "text/plain": [
       "<Element 'mondial' at 0x0000024DE00EA5C0>"
      ]
     },
     "execution_count": 5,
     "metadata": {},
     "output_type": "execute_result"
    }
   ],
   "source": [
    "root = tree.getroot()\n",
    "root"
   ]
  },
  {
   "cell_type": "code",
   "execution_count": 7,
   "metadata": {},
   "outputs": [
    {
     "name": "stdout",
     "output_type": "stream",
     "text": [
      "mondial\n",
      "{}\n",
      "3403\n"
     ]
    }
   ],
   "source": [
    "print(root.tag)\n",
    "print(root.attrib)\n",
    "print(len(root))\n"
   ]
  },
  {
   "cell_type": "markdown",
   "metadata": {},
   "source": [
    "1. 10 countries with the lowest infant mortality rates"
   ]
  },
  {
   "cell_type": "code",
   "execution_count": 1,
   "metadata": {},
   "outputs": [
    {
     "name": "stdout",
     "output_type": "stream",
     "text": [
      "10 countries with the lowest infant mortality rates:\n",
      "            country  infant_mortality_rate\n",
      "36           Monaco                   1.81\n",
      "90            Japan                   2.13\n",
      "109         Bermuda                   2.48\n",
      "34           Norway                   2.48\n",
      "98        Singapore                   2.53\n",
      "35           Sweden                   2.60\n",
      "8    Czech Republic                   2.63\n",
      "6             Spain                   2.70\n",
      "72        Hong Kong                   2.73\n",
      "73            Macao                   3.13\n"
     ]
    }
   ],
   "source": [
    "import pandas as pd\n",
    "import xml.etree.ElementTree as ET\n",
    "\n",
    "# Load the XML data\n",
    "tree = ET.parse('mondial.xml')\n",
    "root = tree.getroot()\n",
    "\n",
    "# Initialize lists to store data\n",
    "countries = []\n",
    "infant_mortality_rates = []\n",
    "\n",
    "# Extract country names and infant mortality rates\n",
    "for country in root.findall('country'):\n",
    "    name = country.find('name').text\n",
    "    infant_mortality = country.find('infant_mortality')\n",
    "    if infant_mortality is not None:\n",
    "        infant_mortality = float(infant_mortality.text)\n",
    "        countries.append(name)\n",
    "        infant_mortality_rates.append(infant_mortality)\n",
    "\n",
    "# Create a DataFrame\n",
    "df = pd.DataFrame({\n",
    "    'country': countries,\n",
    "    'infant_mortality_rate': infant_mortality_rates\n",
    "})\n",
    "\n",
    "# Find the 10 countries with the lowest infant mortality rates\n",
    "lowest_infant_mortality = df.sort_values(by='infant_mortality_rate').head(10)\n",
    "\n",
    "print(\"10 countries with the lowest infant mortality rates:\")\n",
    "print(lowest_infant_mortality)"
   ]
  },
  {
   "cell_type": "markdown",
   "metadata": {},
   "source": [
    "2. 10 cities with the largest population"
   ]
  },
  {
   "cell_type": "code",
   "execution_count": 2,
   "metadata": {},
   "outputs": [
    {
     "name": "stdout",
     "output_type": "stream",
     "text": [
      "\n",
      "10 cities with the largest population:\n",
      "           city  population\n",
      "1251   Shanghai    22315474\n",
      "1334    Karachi    14916456\n",
      "2866      Lagos    13745000\n",
      "712    Istanbul    13710512\n",
      "1422     Mumbai    12442373\n",
      "448      Moskva    11979529\n",
      "1250    Beijing    11716620\n",
      "2811   Kinshasa    11575000\n",
      "2596  São Paulo    11152344\n",
      "1313     Lahore    11126285\n"
     ]
    }
   ],
   "source": [
    "# Initialize lists to store city data\n",
    "cities = []\n",
    "\n",
    "# Extract city names and populations\n",
    "for city in root.findall('.//city'):\n",
    "    name = city.find('name').text\n",
    "    population = city.find('.//population[last()]')\n",
    "    if population is not None:\n",
    "        population = int(population.text)\n",
    "        cities.append((name, population))\n",
    "\n",
    "# Create a DataFrame\n",
    "cities_df = pd.DataFrame(cities, columns=['city', 'population'])\n",
    "\n",
    "# Find the 10 cities with the largest population\n",
    "largest_cities = cities_df.sort_values(by='population', ascending=False).head(10)\n",
    "\n",
    "print(\"\\n10 cities with the largest population:\")\n",
    "print(largest_cities)"
   ]
  },
  {
   "cell_type": "markdown",
   "metadata": {},
   "source": [
    "3. Name and country of:\n",
    "a) Longest river\n",
    "b) Largest lake\n",
    "c) Airport at highest elevation"
   ]
  },
  {
   "cell_type": "code",
   "execution_count": 3,
   "metadata": {},
   "outputs": [
    {
     "name": "stdout",
     "output_type": "stream",
     "text": [
      "\n",
      "Name and country of:\n",
      "a) Longest river: Yangtze (6380.0 km)\n",
      "b) Largest lake: Caspian Sea (386400.0 sq. km)\n",
      "c) Airport at highest elevation: El Alto Intl (4063.0 meters)\n"
     ]
    }
   ],
   "source": [
    "# Function to get attribute value from element\n",
    "def get_element_attr(element, attr):\n",
    "    value = element.find(attr)\n",
    "    return value.text if value is not None else None\n",
    "\n",
    "# Find the longest river\n",
    "rivers = []\n",
    "for river in root.findall('.//river'):\n",
    "    name = get_element_attr(river, 'name')\n",
    "    length = get_element_attr(river, 'length')\n",
    "    if name and length:\n",
    "        rivers.append((name, float(length)))\n",
    "\n",
    "longest_river = max(rivers, key=lambda x: x[1])\n",
    "\n",
    "# Find the largest lake\n",
    "lakes = []\n",
    "for lake in root.findall('.//lake'):\n",
    "    name = get_element_attr(lake, 'name')\n",
    "    area = get_element_attr(lake, 'area')\n",
    "    if name and area:\n",
    "        lakes.append((name, float(area)))\n",
    "\n",
    "largest_lake = max(lakes, key=lambda x: x[1])\n",
    "\n",
    "# Find the airport at highest elevation\n",
    "airports = []\n",
    "for airport in root.findall('.//airport'):\n",
    "    name = get_element_attr(airport, 'name')\n",
    "    elevation = get_element_attr(airport, 'elevation')\n",
    "    if name and elevation:\n",
    "        airports.append((name, float(elevation)))\n",
    "\n",
    "highest_airport = max(airports, key=lambda x: x[1])\n",
    "\n",
    "print(\"\\nName and country of:\")\n",
    "print(f\"a) Longest river: {longest_river[0]} ({longest_river[1]} km)\")\n",
    "print(f\"b) Largest lake: {largest_lake[0]} ({largest_lake[1]} sq. km)\")\n",
    "print(f\"c) Airport at highest elevation: {highest_airport[0]} ({highest_airport[1]} meters)\")"
   ]
  }
 ],
 "metadata": {
  "anaconda-cloud": {},
  "kernelspec": {
   "display_name": "THE_ONE",
   "language": "python",
   "name": "the_one"
  },
  "language_info": {
   "codemirror_mode": {
    "name": "ipython",
    "version": 3
   },
   "file_extension": ".py",
   "mimetype": "text/x-python",
   "name": "python",
   "nbconvert_exporter": "python",
   "pygments_lexer": "ipython3",
   "version": "3.11.7"
  }
 },
 "nbformat": 4,
 "nbformat_minor": 4
}
