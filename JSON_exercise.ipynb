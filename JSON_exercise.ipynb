{
 "cells": [
  {
   "cell_type": "markdown",
   "metadata": {},
   "source": [
    "# JSON exercise\n",
    "\n",
    "Download the data from [**here**](https://drive.google.com/file/d/1DGaX5AVfYhmWeb15lI-MzUbSKTYSz9fQ/view?usp=sharing) and answer following questions:\n",
    "1. Find the 10 countries with most projects\n",
    "2. What are top 10 sectors with projects?\n",
    "3. Find the top 10 major project themes (using column 'mjtheme_namecode')\n",
    "4. In 3. above you will notice that some entries have only the code and the name is missing. Create a dataframe with the missing names filled in."
   ]
  },
  {
   "cell_type": "code",
   "execution_count": 1,
   "metadata": {},
   "outputs": [],
   "source": [
    "import pandas as pd"
   ]
  },
  {
   "cell_type": "code",
   "execution_count": 2,
   "metadata": {},
   "outputs": [
    {
     "data": {
      "text/html": [
       "<div>\n",
       "<style scoped>\n",
       "    .dataframe tbody tr th:only-of-type {\n",
       "        vertical-align: middle;\n",
       "    }\n",
       "\n",
       "    .dataframe tbody tr th {\n",
       "        vertical-align: top;\n",
       "    }\n",
       "\n",
       "    .dataframe thead th {\n",
       "        text-align: right;\n",
       "    }\n",
       "</style>\n",
       "<table border=\"1\" class=\"dataframe\">\n",
       "  <thead>\n",
       "    <tr style=\"text-align: right;\">\n",
       "      <th></th>\n",
       "      <th>people</th>\n",
       "      <th>number</th>\n",
       "      <th>message</th>\n",
       "    </tr>\n",
       "  </thead>\n",
       "  <tbody>\n",
       "    <tr>\n",
       "      <th>0</th>\n",
       "      <td>{'craft': 'ISS', 'name': 'Oleg Kononenko'}</td>\n",
       "      <td>12</td>\n",
       "      <td>success</td>\n",
       "    </tr>\n",
       "    <tr>\n",
       "      <th>1</th>\n",
       "      <td>{'craft': 'ISS', 'name': 'Nikolai Chub'}</td>\n",
       "      <td>12</td>\n",
       "      <td>success</td>\n",
       "    </tr>\n",
       "    <tr>\n",
       "      <th>2</th>\n",
       "      <td>{'craft': 'ISS', 'name': 'Tracy Caldwell Dyson'}</td>\n",
       "      <td>12</td>\n",
       "      <td>success</td>\n",
       "    </tr>\n",
       "    <tr>\n",
       "      <th>3</th>\n",
       "      <td>{'craft': 'ISS', 'name': 'Matthew Dominick'}</td>\n",
       "      <td>12</td>\n",
       "      <td>success</td>\n",
       "    </tr>\n",
       "    <tr>\n",
       "      <th>4</th>\n",
       "      <td>{'craft': 'ISS', 'name': 'Michael Barratt'}</td>\n",
       "      <td>12</td>\n",
       "      <td>success</td>\n",
       "    </tr>\n",
       "  </tbody>\n",
       "</table>\n",
       "</div>"
      ],
      "text/plain": [
       "                                             people  number  message\n",
       "0        {'craft': 'ISS', 'name': 'Oleg Kononenko'}      12  success\n",
       "1          {'craft': 'ISS', 'name': 'Nikolai Chub'}      12  success\n",
       "2  {'craft': 'ISS', 'name': 'Tracy Caldwell Dyson'}      12  success\n",
       "3      {'craft': 'ISS', 'name': 'Matthew Dominick'}      12  success\n",
       "4       {'craft': 'ISS', 'name': 'Michael Barratt'}      12  success"
      ]
     },
     "execution_count": 2,
     "metadata": {},
     "output_type": "execute_result"
    }
   ],
   "source": [
    "url = \"http://api.open-notify.org/astros.json\"\n",
    "first_json = pd.read_json(url)\n",
    "first_json.head()"
   ]
  },
  {
   "cell_type": "code",
   "execution_count": 3,
   "metadata": {},
   "outputs": [],
   "source": [
    "first_json.to_json('json_columns.json', orient=\"columns\")\n",
    "first_json.to_json('json_index.json', orient=\"index\")"
   ]
  },
  {
   "cell_type": "code",
   "execution_count": 4,
   "metadata": {},
   "outputs": [],
   "source": [
    "df = pd.read_json(\"world_bank_projects.json\")"
   ]
  },
  {
   "cell_type": "code",
   "execution_count": 5,
   "metadata": {},
   "outputs": [
    {
     "data": {
      "text/html": [
       "<div>\n",
       "<style scoped>\n",
       "    .dataframe tbody tr th:only-of-type {\n",
       "        vertical-align: middle;\n",
       "    }\n",
       "\n",
       "    .dataframe tbody tr th {\n",
       "        vertical-align: top;\n",
       "    }\n",
       "\n",
       "    .dataframe thead th {\n",
       "        text-align: right;\n",
       "    }\n",
       "</style>\n",
       "<table border=\"1\" class=\"dataframe\">\n",
       "  <thead>\n",
       "    <tr style=\"text-align: right;\">\n",
       "      <th></th>\n",
       "      <th>people</th>\n",
       "      <th>number</th>\n",
       "      <th>message</th>\n",
       "    </tr>\n",
       "  </thead>\n",
       "  <tbody>\n",
       "    <tr>\n",
       "      <th>0</th>\n",
       "      <td>{'craft': 'ISS', 'name': 'Oleg Kononenko'}</td>\n",
       "      <td>12</td>\n",
       "      <td>success</td>\n",
       "    </tr>\n",
       "    <tr>\n",
       "      <th>1</th>\n",
       "      <td>{'craft': 'ISS', 'name': 'Nikolai Chub'}</td>\n",
       "      <td>12</td>\n",
       "      <td>success</td>\n",
       "    </tr>\n",
       "    <tr>\n",
       "      <th>2</th>\n",
       "      <td>{'craft': 'ISS', 'name': 'Tracy Caldwell Dyson'}</td>\n",
       "      <td>12</td>\n",
       "      <td>success</td>\n",
       "    </tr>\n",
       "    <tr>\n",
       "      <th>3</th>\n",
       "      <td>{'craft': 'ISS', 'name': 'Matthew Dominick'}</td>\n",
       "      <td>12</td>\n",
       "      <td>success</td>\n",
       "    </tr>\n",
       "    <tr>\n",
       "      <th>4</th>\n",
       "      <td>{'craft': 'ISS', 'name': 'Michael Barratt'}</td>\n",
       "      <td>12</td>\n",
       "      <td>success</td>\n",
       "    </tr>\n",
       "  </tbody>\n",
       "</table>\n",
       "</div>"
      ],
      "text/plain": [
       "                                             people  number  message\n",
       "0        {'craft': 'ISS', 'name': 'Oleg Kononenko'}      12  success\n",
       "1          {'craft': 'ISS', 'name': 'Nikolai Chub'}      12  success\n",
       "2  {'craft': 'ISS', 'name': 'Tracy Caldwell Dyson'}      12  success\n",
       "3      {'craft': 'ISS', 'name': 'Matthew Dominick'}      12  success\n",
       "4       {'craft': 'ISS', 'name': 'Michael Barratt'}      12  success"
      ]
     },
     "execution_count": 5,
     "metadata": {},
     "output_type": "execute_result"
    }
   ],
   "source": [
    "first_json.head()"
   ]
  },
  {
   "cell_type": "code",
   "execution_count": 6,
   "metadata": {},
   "outputs": [
    {
     "name": "stdout",
     "output_type": "stream",
     "text": [
      "                                              sector supplementprojectflg  \\\n",
      "0  [{'Name': 'Primary education'}, {'Name': 'Seco...                    N   \n",
      "1  [{'Name': 'Public administration- Other social...                    N   \n",
      "2  [{'Name': 'Rural and Inter-Urban Roads and Hig...                    Y   \n",
      "3                [{'Name': 'Other social services'}]                    N   \n",
      "4  [{'Name': 'General industry and trade sector'}...                    N   \n",
      "\n",
      "  projectfinancialtype prodline  \\\n",
      "0                  IDA       PE   \n",
      "1                OTHER       RE   \n",
      "2                  IDA       PE   \n",
      "3                OTHER       RE   \n",
      "4                  IDA       PE   \n",
      "\n",
      "                                             mjtheme  idacommamt  \\\n",
      "0                                [Human development]   130000000   \n",
      "1  [Economic management, Social protection and ri...           0   \n",
      "2  [Trade and integration, Public sector governan...     6060000   \n",
      "3  [Social dev/gender/inclusion, Social dev/gende...           0   \n",
      "4  [Trade and integration, Financial and private ...    13100000   \n",
      "\n",
      "                                  impagency  \\\n",
      "0                     MINISTRY OF EDUCATION   \n",
      "1                       MINISTRY OF FINANCE   \n",
      "2  MINISTRY OF TRANSPORT AND COMMUNICATIONS   \n",
      "3  LABOR INTENSIVE PUBLIC WORKS PROJECT PMU   \n",
      "4            MINISTRY OF TRADE AND INDUSTRY   \n",
      "\n",
      "                                        project_name mjthemecode  \\\n",
      "0  Ethiopia General Education Quality Improvement...        8,11   \n",
      "1          TN: DTF Social Protection Reforms Support         1,6   \n",
      "2  Tuvalu Aviation Investment Project - Additiona...    5,2,11,6   \n",
      "3   Gov't and Civil Society Organization Partnership         7,7   \n",
      "4  Second Private Sector Competitiveness and Econ...         5,4   \n",
      "\n",
      "            closingdate  ...  \\\n",
      "0  2018-07-07T00:00:00Z  ...   \n",
      "1                   NaN  ...   \n",
      "2                   NaN  ...   \n",
      "3                   NaN  ...   \n",
      "4  2019-04-30T00:00:00Z  ...   \n",
      "\n",
      "                                 majorsector_percent board_approval_month  \\\n",
      "0  [{'Percent': 46, 'Name': 'Education'}, {'Perce...             November   \n",
      "1  [{'Percent': 70, 'Name': 'Public Administratio...             November   \n",
      "2       [{'Percent': 100, 'Name': 'Transportation'}]             November   \n",
      "3  [{'Percent': 100, 'Name': 'Health and other so...              October   \n",
      "4  [{'Percent': 50, 'Name': 'Industry and trade'}...              October   \n",
      "\n",
      "                                      theme_namecode  \\\n",
      "0      [{'code': '65', 'name': 'Education for all'}]   \n",
      "1  [{'code': '24', 'name': 'Other economic manage...   \n",
      "2  [{'code': '47', 'name': 'Regional integration'...   \n",
      "3  [{'code': '57', 'name': 'Participation and civ...   \n",
      "4  [{'code': '45', 'name': 'Export development an...   \n",
      "\n",
      "                               countryname  \\\n",
      "0  Federal Democratic Republic of Ethiopia   \n",
      "1                      Republic of Tunisia   \n",
      "2                                   Tuvalu   \n",
      "3                        Republic of Yemen   \n",
      "4                       Kingdom of Lesotho   \n",
      "\n",
      "                                                 url source  \\\n",
      "0  http://www.worldbank.org/projects/P129828/ethi...   IBRD   \n",
      "1  http://www.worldbank.org/projects/P144674?lang=en   IBRD   \n",
      "2  http://www.worldbank.org/projects/P145310?lang=en   IBRD   \n",
      "3  http://www.worldbank.org/projects/P144665?lang=en   IBRD   \n",
      "4  http://www.worldbank.org/projects/P144933/seco...   IBRD   \n",
      "\n",
      "  projectstatusdisplay ibrdcommamt  \\\n",
      "0               Active           0   \n",
      "1               Active           0   \n",
      "2               Active           0   \n",
      "3               Active           0   \n",
      "4               Active           0   \n",
      "\n",
      "                                     sector_namecode  \\\n",
      "0  [{'code': 'EP', 'name': 'Primary education'}, ...   \n",
      "1  [{'code': 'BS', 'name': 'Public administration...   \n",
      "2  [{'code': 'TI', 'name': 'Rural and Inter-Urban...   \n",
      "3  [{'code': 'JB', 'name': 'Other social services'}]   \n",
      "4  [{'code': 'YZ', 'name': 'General industry and ...   \n",
      "\n",
      "                                    _id  \n",
      "0  {'$oid': '52b213b38594d8a2be17c780'}  \n",
      "1  {'$oid': '52b213b38594d8a2be17c781'}  \n",
      "2  {'$oid': '52b213b38594d8a2be17c782'}  \n",
      "3  {'$oid': '52b213b38594d8a2be17c783'}  \n",
      "4  {'$oid': '52b213b38594d8a2be17c784'}  \n",
      "\n",
      "[5 rows x 50 columns]\n"
     ]
    }
   ],
   "source": [
    "import pandas as pd\n",
    "\n",
    "# Assuming you have already loaded the data into a DataFrame called 'df'\n",
    "df = pd.read_json(\"world_bank_projects.json\")\n",
    "\n",
    "# Print the first few rows (default is 5 rows)\n",
    "print(df.head())"
   ]
  },
  {
   "cell_type": "markdown",
   "metadata": {},
   "source": [
    "1. Find the 10 countries with most projects"
   ]
  },
  {
   "cell_type": "code",
   "execution_count": 1,
   "metadata": {},
   "outputs": [
    {
     "name": "stdout",
     "output_type": "stream",
     "text": [
      "Top 10 countries with the most projects:\n",
      "countryname\n",
      "Republic of Indonesia              56\n",
      "Republic of India                  51\n",
      "Socialist Republic of Vietnam      43\n",
      "Federative Republic of Brazil      41\n",
      "People's Republic of Bangladesh    41\n",
      "People's Republic of China         40\n",
      "Africa                             39\n",
      "Republic of Yemen                  34\n",
      "Kingdom of Morocco                 32\n",
      "Republic of Mozambique             31\n",
      "Name: count, dtype: int64\n"
     ]
    }
   ],
   "source": [
    "import pandas as pd\n",
    "import json\n",
    "\n",
    "# Load the JSON data\n",
    "with open('world_bank_projects.json', 'r') as f:\n",
    "    data = json.load(f)\n",
    "\n",
    "# Convert JSON data to DataFrame\n",
    "df = pd.json_normalize(data, record_path='mjtheme_namecode', meta=['countryname', 'project_name'])\n",
    "\n",
    "# Count the number of projects per country\n",
    "top_countries = df['countryname'].value_counts().head(10)\n",
    "\n",
    "print(\"Top 10 countries with the most projects:\")\n",
    "print(top_countries)"
   ]
  },
  {
   "cell_type": "markdown",
   "metadata": {},
   "source": [
    "What are top 10 sectors with projects?"
   ]
  },
  {
   "cell_type": "code",
   "execution_count": 2,
   "metadata": {},
   "outputs": [
    {
     "name": "stdout",
     "output_type": "stream",
     "text": [
      "\n",
      "Top 10 sectors with projects:\n",
      "code\n",
      "11    250\n",
      "10    216\n",
      "8     210\n",
      "2     199\n",
      "6     168\n",
      "4     146\n",
      "7     130\n",
      "5      77\n",
      "9      50\n",
      "1      38\n",
      "Name: count, dtype: int64\n"
     ]
    }
   ],
   "source": [
    "# Count the number of projects per sector\n",
    "top_sectors = df['code'].value_counts().head(10)\n",
    "\n",
    "print(\"\\nTop 10 sectors with projects:\")\n",
    "print(top_sectors)"
   ]
  },
  {
   "cell_type": "markdown",
   "metadata": {},
   "source": [
    "3. Find the top 10 major project themes (using column 'mjtheme_namecode')"
   ]
  },
  {
   "cell_type": "code",
   "execution_count": 3,
   "metadata": {},
   "outputs": [
    {
     "name": "stdout",
     "output_type": "stream",
     "text": [
      "\n",
      "Top 10 major project themes:\n",
      "name\n",
      "Environment and natural resources management    223\n",
      "Rural development                               202\n",
      "Human development                               197\n",
      "Public sector governance                        184\n",
      "Social protection and risk management           158\n",
      "Financial and private sector development        130\n",
      "Social dev/gender/inclusion                     119\n",
      "Trade and integration                            72\n",
      "Urban development                                47\n",
      "Economic management                              33\n",
      "Name: count, dtype: int64\n"
     ]
    }
   ],
   "source": [
    "# Filter out rows where 'name' is not empty\n",
    "theme_codes = df[df['name'] != '']\n",
    "\n",
    "# Count the occurrences of each project theme\n",
    "top_themes = theme_codes['name'].value_counts().head(10)\n",
    "\n",
    "print(\"\\nTop 10 major project themes:\")\n",
    "print(top_themes)"
   ]
  },
  {
   "cell_type": "markdown",
   "metadata": {},
   "source": [
    "4. Create a dataframe with the missing names filled in for project themes"
   ]
  },
  {
   "cell_type": "code",
   "execution_count": 4,
   "metadata": {},
   "outputs": [
    {
     "name": "stdout",
     "output_type": "stream",
     "text": [
      "\n",
      "DataFrame with missing names filled in:\n",
      "  code                                   name  \\\n",
      "0    8                      Human development   \n",
      "1   11                                          \n",
      "2    1                    Economic management   \n",
      "3    6  Social protection and risk management   \n",
      "4    5                  Trade and integration   \n",
      "\n",
      "                               countryname  \\\n",
      "0  Federal Democratic Republic of Ethiopia   \n",
      "1  Federal Democratic Republic of Ethiopia   \n",
      "2                      Republic of Tunisia   \n",
      "3                      Republic of Tunisia   \n",
      "4                                   Tuvalu   \n",
      "\n",
      "                                        project_name  \\\n",
      "0  Ethiopia General Education Quality Improvement...   \n",
      "1  Ethiopia General Education Quality Improvement...   \n",
      "2          TN: DTF Social Protection Reforms Support   \n",
      "3          TN: DTF Social Protection Reforms Support   \n",
      "4  Tuvalu Aviation Investment Project - Additiona...   \n",
      "\n",
      "                                    name_filled  \n",
      "0                             Human development  \n",
      "1  Environment and natural resources management  \n",
      "2                           Economic management  \n",
      "3         Social protection and risk management  \n",
      "4                         Trade and integration  \n"
     ]
    }
   ],
   "source": [
    "# Create a mapping from code to name\n",
    "code_to_name = theme_codes.drop_duplicates(subset=['code', 'name']).set_index('code')['name'].to_dict()\n",
    "\n",
    "# Fill in missing names based on the mapping\n",
    "df['name_filled'] = df['code'].map(code_to_name)\n",
    "\n",
    "print(\"\\nDataFrame with missing names filled in:\")\n",
    "print(df.head())"
   ]
  }
 ],
 "metadata": {
  "anaconda-cloud": {},
  "kernelspec": {
   "display_name": "THE_ONE",
   "language": "python",
   "name": "the_one"
  },
  "language_info": {
   "codemirror_mode": {
    "name": "ipython",
    "version": 3
   },
   "file_extension": ".py",
   "mimetype": "text/x-python",
   "name": "python",
   "nbconvert_exporter": "python",
   "pygments_lexer": "ipython3",
   "version": "3.11.7"
  }
 },
 "nbformat": 4,
 "nbformat_minor": 4
}
